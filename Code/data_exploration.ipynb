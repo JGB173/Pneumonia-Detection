{
 "cells": [
  {
   "cell_type": "code",
   "execution_count": 17,
   "id": "35b1e6db",
   "metadata": {},
   "outputs": [],
   "source": [
    "# Josh Burgess\n",
    "# 300652214\n",
    "\n",
    "import os\n",
    "from PIL import Image"
   ]
  },
  {
   "cell_type": "code",
   "execution_count": 24,
   "id": "284ecc8c",
   "metadata": {},
   "outputs": [
    {
     "name": "stdout",
     "output_type": "stream",
     "text": [
      "Train=5216, Test=624, Val=16\n"
     ]
    }
   ],
   "source": [
    "# Count images in all sets\n",
    "def count_images(path):\n",
    "    count = 0\n",
    "    for root, dirs, files in os.walk(path):\n",
    "        count += len([f for f in files if f.lower().endswith(('.jpeg'))])\n",
    "    return count\n",
    "\n",
    "\n",
    "main_train = count_images(\"chest_xray/train\")\n",
    "main_test = count_images(\"chest_xray/test\")\n",
    "main_val = count_images(\"chest_xray/val\")\n",
    "\n",
    "print(f\"Train={main_train}, Test={main_test}, Val={main_val}\")\n"
   ]
  },
  {
   "cell_type": "code",
   "execution_count": null,
   "id": "3eb3279d",
   "metadata": {},
   "outputs": [
    {
     "name": "stdout",
     "output_type": "stream",
     "text": [
      "TRAIN:\n",
      "  Normal: 1341 (25.7%)\n",
      "  Pneumonia: 3875 (74.3%)\n",
      "  Total: 5216\n",
      "TEST:\n",
      "  Normal: 234 (37.5%)\n",
      "  Pneumonia: 390 (62.5%)\n",
      "  Total: 624\n",
      "VAL:\n",
      "  Normal: 8 (50.0%)\n",
      "  Pneumonia: 8 (50.0%)\n",
      "  Total: 16\n"
     ]
    },
    {
     "ename": "",
     "evalue": "",
     "output_type": "error",
     "traceback": [
      "\u001b[1;31mThe Kernel crashed while executing code in the current cell or a previous cell. \n",
      "\u001b[1;31mPlease review the code in the cell(s) to identify a possible cause of the failure. \n",
      "\u001b[1;31mClick <a href='https://aka.ms/vscodeJupyterKernelCrash'>here</a> for more info. \n",
      "\u001b[1;31mView Jupyter <a href='command:jupyter.viewOutput'>log</a> for further details."
     ]
    }
   ],
   "source": [
    "# Check class distribution in each split\n",
    "for split in ['train', 'test', 'val']:\n",
    "    normal_path = f\"chest_xray/{split}/NORMAL\"\n",
    "    pneumonia_path = f\"chest_xray/{split}/PNEUMONIA\"\n",
    "    \n",
    "    normal_count = len(os.listdir(normal_path)) if os.path.exists(normal_path) else 0\n",
    "    pneumonia_count = len(os.listdir(pneumonia_path)) if os.path.exists(pneumonia_path) else 0\n",
    "    total = normal_count + pneumonia_count\n",
    "    \n",
    "    print(f\"{split.upper()}:\")\n",
    "    print(f\"  Normal: {normal_count} ({normal_count/total*100:.1f}%)\")\n",
    "    print(f\"  Pneumonia: {pneumonia_count} ({pneumonia_count/total*100:.1f}%)\")\n",
    "    print(f\"  Total: {total}\")"
   ]
  },
  {
   "cell_type": "code",
   "execution_count": 20,
   "id": "04703bf2",
   "metadata": {},
   "outputs": [
    {
     "name": "stdout",
     "output_type": "stream",
     "text": [
      "Normal image size: (2090, 1858)\n",
      "Pneumonia image size: (712, 439)\n",
      "Normal image mode: L\n",
      "Pneumonia image mode: RGB\n"
     ]
    }
   ],
   "source": [
    "# Load sample images and check their dimensions\n",
    "normal_sample = Image.open(\"chest_xray/train/NORMAL/IM-0115-0001.jpeg\")\n",
    "pneumonia_sample = Image.open(\"chest_xray/train/PNEUMONIA/person1_bacteria_1.jpeg\")\n",
    "\n",
    "print(f\"Normal image size: {normal_sample.size}\")\n",
    "print(f\"Pneumonia image size: {pneumonia_sample.size}\")\n",
    "print(f\"Normal image mode: {normal_sample.mode}\")\n",
    "print(f\"Pneumonia image mode: {pneumonia_sample.mode}\")"
   ]
  },
  {
   "cell_type": "code",
   "execution_count": 21,
   "id": "77dda440",
   "metadata": {},
   "outputs": [
    {
     "name": "stdout",
     "output_type": "stream",
     "text": [
      "Sample image dimensions:\n",
      "IM-0249-0001.jpeg: (2396, 1990)\n",
      "NORMAL2-IM-1250-0001.jpeg: (1416, 992)\n",
      "NORMAL2-IM-0927-0001.jpeg: (2359, 2234)\n",
      "NORMAL2-IM-1001-0001.jpeg: (1808, 1665)\n",
      "IM-0623-0001.jpeg: (1724, 1422)\n"
     ]
    }
   ],
   "source": [
    "# Check a few more images to see dimension variability\n",
    "import random\n",
    "\n",
    "train_normal_path = \"chest_xray/train/NORMAL\"\n",
    "sample_files = random.sample(os.listdir(train_normal_path), 5)\n",
    "\n",
    "print(\"Sample image dimensions:\")\n",
    "for file in sample_files:\n",
    "    img = Image.open(os.path.join(train_normal_path, file))\n",
    "    print(f\"{file}: {img.size}\")"
   ]
  }
 ],
 "metadata": {
  "kernelspec": {
   "display_name": "Python 3",
   "language": "python",
   "name": "python3"
  },
  "language_info": {
   "codemirror_mode": {
    "name": "ipython",
    "version": 3
   },
   "file_extension": ".py",
   "mimetype": "text/x-python",
   "name": "python",
   "nbconvert_exporter": "python",
   "pygments_lexer": "ipython3",
   "version": "3.13.2"
  }
 },
 "nbformat": 4,
 "nbformat_minor": 5
}
