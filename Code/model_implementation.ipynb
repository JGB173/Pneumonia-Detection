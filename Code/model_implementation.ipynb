{
 "cells": [
  {
   "cell_type": "code",
   "execution_count": 2,
   "id": "d8793953",
   "metadata": {},
   "outputs": [
    {
     "name": "stdout",
     "output_type": "stream",
     "text": [
      "Using device: cpu\n"
     ]
    }
   ],
   "source": [
    "# Josh Burgess\n",
    "# 300652214\n",
    "\n",
    "import torch\n",
    "import torch.nn as nn\n",
    "import torch.optim as optim\n",
    "from torch.utils.data import DataLoader\n",
    "import torchvision.models as models\n",
    "from transformers import ViTForImageClassification\n",
    "import numpy as np\n",
    "from sklearn.metrics import accuracy_score, precision_recall_fscore_support\n",
    "import matplotlib.pyplot as plt\n",
    "\n",
    "# Check for GPU availability\n",
    "device = torch.device('cuda' if torch.cuda.is_available() else 'cpu')\n",
    "print(f\"Using device: {device}\")"
   ]
  },
  {
   "cell_type": "code",
   "execution_count": 5,
   "id": "e9e0f5a8",
   "metadata": {},
   "outputs": [
    {
     "name": "stdout",
     "output_type": "stream",
     "text": [
      "Loading ResNet-50:\n",
      "Loading ViT-Base:\n"
     ]
    },
    {
     "name": "stderr",
     "output_type": "stream",
     "text": [
      "Some weights of ViTForImageClassification were not initialized from the model checkpoint at google/vit-base-patch16-224 and are newly initialized because the shapes did not match:\n",
      "- classifier.bias: found shape torch.Size([1000]) in the checkpoint and torch.Size([2]) in the model instantiated\n",
      "- classifier.weight: found shape torch.Size([1000, 768]) in the checkpoint and torch.Size([2, 768]) in the model instantiated\n",
      "You should probably TRAIN this model on a down-stream task to be able to use it for predictions and inference.\n"
     ]
    },
    {
     "name": "stdout",
     "output_type": "stream",
     "text": [
      "ResNet-50 final layer: Linear(in_features=2048, out_features=2, bias=True)\n",
      "ViT classifier: Linear(in_features=768, out_features=2, bias=True)\n"
     ]
    }
   ],
   "source": [
    "# Load pre-trained models for binary pneumonia classification\n",
    "\n",
    "# Load ResNet-50 (CNN baseline)\n",
    "print(\"Loading ResNet-50:\")\n",
    "resnet = models.resnet50(pretrained=True)\n",
    "# Modify final layer for binary classification \n",
    "resnet.fc = nn.Linear(resnet.fc.in_features, 2)\n",
    "resnet = resnet.to(device)\n",
    "\n",
    "# Load ViT-Base (ViT baseline)  \n",
    "print(\"Loading ViT-Base:\")\n",
    "vit = ViTForImageClassification.from_pretrained(\n",
    "    'google/vit-base-patch16-224',\n",
    "    num_labels=2,\n",
    "    ignore_mismatched_sizes=True\n",
    ")\n",
    "vit = vit.to(device)\n",
    "\n",
    "print(f\"ResNet-50 final layer: {resnet.fc}\")\n",
    "print(f\"ViT classifier: {vit.classifier}\")"
   ]
  },
  {
   "cell_type": "code",
   "execution_count": 6,
   "id": "b51d7ea2",
   "metadata": {},
   "outputs": [],
   "source": [
    "# Train a model and return training history\n",
    "\n",
    "def train_model(model, train_loader, val_loader, num_epochs=5, learning_rate=1e-4):\n",
    "\n",
    "    # Set up loss function and optimiser\n",
    "    criterion = nn.CrossEntropyLoss()\n",
    "    optimiser = optim.Adam(model.parameters(), lr=learning_rate)\n",
    "    \n",
    "    # Store training metrics over time\n",
    "    history = {'train_loss': [], 'val_loss': [], 'val_acc': []}\n",
    "    \n",
    "    for epoch in range(num_epochs):\n",
    "        # Training phase\n",
    "        model.train()\n",
    "        train_loss = 0.0\n",
    "        \n",
    "        # Process each batch of training data\n",
    "        for batch_idx, (images, labels) in enumerate(train_loader):\n",
    "            # Move data to GPU/CPU device\n",
    "            images, labels = images.to(device), labels.to(device)\n",
    "            \n",
    "            optimiser.zero_grad()\n",
    "            outputs = model(images) # Forward pass\n",
    "            loss = criterion(outputs, labels) # Calc loss between predictions and true labels\n",
    "            loss.backward() # Backward pass (calc gradients)\n",
    "            optimiser.step() # Update model weights based on gradients\n",
    "            \n",
    "            train_loss += loss.item()\n",
    "            \n",
    "            if batch_idx % 5 == 0:  # Print every 5 batches\n",
    "                print(f'Epoch {epoch+1}/{num_epochs}, Batch {batch_idx}/{len(train_loader)}, Loss: {loss.item():.4f}')\n",
    "        \n",
    "        # Validation phase\n",
    "        model.eval()\n",
    "        val_loss = 0.0\n",
    "        correct = 0\n",
    "        total = 0\n",
    "        \n",
    "        # Evaluate without updating weights\n",
    "        with torch.no_grad():\n",
    "            for images, labels in val_loader:\n",
    "                images, labels = images.to(device), labels.to(device)\n",
    "                outputs = model(images)\n",
    "                loss = criterion(outputs, labels)\n",
    "                val_loss += loss.item()\n",
    "                \n",
    "                # Calculate accuracy\n",
    "                max_values, predicted = torch.max(outputs.data, 1)\n",
    "                total += labels.size(0)\n",
    "                correct += (predicted == labels).sum().item()\n",
    "        \n",
    "        # Calculate average metrics for this epoch\n",
    "        train_loss /= len(train_loader)\n",
    "        val_loss /= len(val_loader)\n",
    "        val_acc = 100 * correct / total\n",
    "        \n",
    "        history['train_loss'].append(train_loss)\n",
    "        history['val_loss'].append(val_loss)\n",
    "        history['val_acc'].append(val_acc)\n",
    "        \n",
    "        print(f'Epoch {epoch+1}: Train Loss: {train_loss:.4f}, Val Loss: {val_loss:.4f}, Val Acc: {val_acc:.2f}%')\n",
    "    \n",
    "    return history"
   ]
  },
  {
   "cell_type": "code",
   "execution_count": null,
   "id": "45bfec17",
   "metadata": {},
   "outputs": [],
   "source": []
  }
 ],
 "metadata": {
  "kernelspec": {
   "display_name": "Python 3",
   "language": "python",
   "name": "python3"
  },
  "language_info": {
   "codemirror_mode": {
    "name": "ipython",
    "version": 3
   },
   "file_extension": ".py",
   "mimetype": "text/x-python",
   "name": "python",
   "nbconvert_exporter": "python",
   "pygments_lexer": "ipython3",
   "version": "3.13.2"
  }
 },
 "nbformat": 4,
 "nbformat_minor": 5
}
