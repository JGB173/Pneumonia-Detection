{
 "cells": [
  {
   "cell_type": "code",
   "execution_count": 12,
   "id": "d8793953",
   "metadata": {},
   "outputs": [
    {
     "name": "stdout",
     "output_type": "stream",
     "text": [
      "Using device: cpu\n"
     ]
    }
   ],
   "source": [
    "# Josh Burgess\n",
    "# 300652214\n",
    "\n",
    "import torch\n",
    "import torch.nn as nn\n",
    "import torch.optim as optim\n",
    "from torch.utils.data import DataLoader\n",
    "import torchvision.models as models\n",
    "from transformers import ViTForImageClassification\n",
    "import numpy as np\n",
    "from sklearn.metrics import accuracy_score, precision_recall_fscore_support\n",
    "import matplotlib.pyplot as plt\n",
    "\n",
    "# Check for GPU availability\n",
    "device = torch.device('cuda' if torch.cuda.is_available() else 'cpu')\n",
    "print(f\"Using device: {device}\")"
   ]
  },
  {
   "cell_type": "code",
   "execution_count": 13,
   "id": "e9e0f5a8",
   "metadata": {},
   "outputs": [
    {
     "name": "stdout",
     "output_type": "stream",
     "text": [
      "Loading ResNet-50:\n",
      "Loading ViT-Base:\n"
     ]
    },
    {
     "name": "stderr",
     "output_type": "stream",
     "text": [
      "Some weights of ViTForImageClassification were not initialized from the model checkpoint at google/vit-base-patch16-224 and are newly initialized because the shapes did not match:\n",
      "- classifier.bias: found shape torch.Size([1000]) in the checkpoint and torch.Size([2]) in the model instantiated\n",
      "- classifier.weight: found shape torch.Size([1000, 768]) in the checkpoint and torch.Size([2, 768]) in the model instantiated\n",
      "You should probably TRAIN this model on a down-stream task to be able to use it for predictions and inference.\n"
     ]
    },
    {
     "name": "stdout",
     "output_type": "stream",
     "text": [
      "ResNet-50 final layer: Linear(in_features=2048, out_features=2, bias=True)\n",
      "ViT classifier: Linear(in_features=768, out_features=2, bias=True)\n"
     ]
    }
   ],
   "source": [
    "# Load pre-trained models for binary pneumonia classification\n",
    "\n",
    "# Load ResNet-50 (CNN baseline)\n",
    "print(\"Loading ResNet-50:\")\n",
    "resnet = models.resnet50(pretrained=True)\n",
    "# Modify final layer for binary classification \n",
    "resnet.fc = nn.Linear(resnet.fc.in_features, 2)\n",
    "resnet = resnet.to(device)\n",
    "\n",
    "# Load ViT-Base (ViT baseline)  \n",
    "print(\"Loading ViT-Base:\")\n",
    "vit = ViTForImageClassification.from_pretrained(\n",
    "    'google/vit-base-patch16-224',\n",
    "    num_labels=2,\n",
    "    ignore_mismatched_sizes=True\n",
    ")\n",
    "vit = vit.to(device)\n",
    "\n",
    "print(f\"ResNet-50 final layer: {resnet.fc}\")\n",
    "print(f\"ViT classifier: {vit.classifier}\")"
   ]
  },
  {
   "cell_type": "code",
   "execution_count": 24,
   "id": "b51d7ea2",
   "metadata": {},
   "outputs": [],
   "source": [
    "# Train a model and return training history\n",
    "\n",
    "def train_model(model, train_loader, val_loader, num_epochs=5, learning_rate=1e-4):\n",
    "\n",
    "    # Set up loss function and optimiser\n",
    "    criterion = nn.CrossEntropyLoss()\n",
    "    optimiser = optim.Adam(model.parameters(), lr=learning_rate)\n",
    "    \n",
    "    # Store training metrics over time\n",
    "    history = {'train_loss': [], 'val_loss': [], 'train_acc': [], 'val_acc': []}\n",
    "    \n",
    "    for epoch in range(num_epochs):\n",
    "        # Training phase\n",
    "        model.train()\n",
    "        train_loss = 0.0\n",
    "        train_correct = 0\n",
    "        train_total = 0\n",
    "        \n",
    "        # Process each batch of training data\n",
    "        for batch_idx, (images, labels) in enumerate(train_loader):\n",
    "            # Move data to GPU/CPU device\n",
    "            images, labels = images.to(device), labels.to(device)\n",
    "            \n",
    "            optimiser.zero_grad()\n",
    "\n",
    "            if hasattr(model, 'classifier') and 'ViT' in str(type(model)):\n",
    "                # ViT returns ImageClassifierOutput, need to extract logits\n",
    "                outputs = model(images).logits\n",
    "                \n",
    "            else:\n",
    "                # ResNet returns tensor directly\n",
    "                outputs = model(images)\n",
    "\n",
    "            loss = criterion(outputs, labels) # Calc loss between predictions and true labels\n",
    "            loss.backward() # Backward pass (calc gradients)\n",
    "            optimiser.step() # Update model weights based on gradients\n",
    "            \n",
    "            train_loss += loss.item()\n",
    "\n",
    "            # Calc training accuracy\n",
    "            _, predicted = torch.max(outputs, 1)\n",
    "            train_total += labels.size(0)\n",
    "            train_correct += (predicted == labels).sum().item()\n",
    "            \n",
    "            if batch_idx % 5 == 0:  # Print every 5 batches\n",
    "                print(f'Epoch {epoch+1}/{num_epochs}, Batch {batch_idx}/{len(train_loader)}, Loss: {loss.item():.4f}')\n",
    "\n",
    "        \n",
    "        # Calculate training accuracy for this epoch\n",
    "        train_acc = 100 * train_correct / train_total\n",
    "        \n",
    "        # Validation phase\n",
    "        model.eval()\n",
    "        val_loss = 0.0\n",
    "        correct = 0\n",
    "        total = 0\n",
    "        \n",
    "        # Evaluate without updating weights\n",
    "        with torch.no_grad():\n",
    "            for images, labels in val_loader:\n",
    "                images, labels = images.to(device), labels.to(device)\n",
    "\n",
    "                if hasattr(model, 'classifier') and 'ViT' in str(type(model)):\n",
    "                    # ViT returns ImageClassifierOutput, need to extract logits\n",
    "                    outputs = model(images).logits\n",
    "\n",
    "                    \n",
    "                else:\n",
    "                    # ResNet returns tensor directly\n",
    "                    outputs = model(images)\n",
    "\n",
    "                loss = criterion(outputs, labels)\n",
    "                val_loss += loss.item()\n",
    "                \n",
    "                # Calculate accuracy\n",
    "                max_values, predicted = torch.max(outputs.data, 1)\n",
    "                total += labels.size(0)\n",
    "                correct += (predicted == labels).sum().item()\n",
    "        \n",
    "        # Calculate average metrics for this epoch\n",
    "        train_loss /= len(train_loader)\n",
    "        val_loss /= len(val_loader)\n",
    "        val_acc = 100 * correct / total\n",
    "        \n",
    "        history['train_loss'].append(train_loss)\n",
    "        history['val_loss'].append(val_loss)\n",
    "        history['train_acc'].append(train_acc)\n",
    "        history['val_acc'].append(val_acc)\n",
    "        \n",
    "        print(f'Epoch {epoch+1}: Train Loss: {train_loss:.4f}, Train Acc: {train_acc:.2f}%, Val Loss: {val_loss:.4f}, Val Acc: {val_acc:.2f}%')\n",
    "    \n",
    "    return history"
   ]
  },
  {
   "cell_type": "code",
   "execution_count": 25,
   "id": "45bfec17",
   "metadata": {},
   "outputs": [
    {
     "name": "stdout",
     "output_type": "stream",
     "text": [
      "Loading chest X-ray data...\n",
      "Training samples: 4185\n",
      "Validation samples: 1047\n",
      "Subset samples: 500\n"
     ]
    }
   ],
   "source": [
    "# Import\n",
    "from data_utils import create_splits, get_train_val_splits, get_transforms\n",
    "from dataset import create_data_loaders, create_subset_loader\n",
    "\n",
    "# Load and split your data\n",
    "print(\"Loading chest X-ray data...\")\n",
    "normal_files, pneumonia_files = create_splits()\n",
    "normal_train, normal_val, pneumonia_train, pneumonia_val = get_train_val_splits(normal_files, pneumonia_files)\n",
    "\n",
    "# Get transforms\n",
    "train_transform, val_transform = get_transforms()\n",
    "\n",
    "# Create data loaders\n",
    "train_loader, val_loader = create_data_loaders(\n",
    "    normal_train, normal_val, pneumonia_train, pneumonia_val,\n",
    "    train_transform, val_transform, batch_size=32\n",
    ")\n",
    "\n",
    "# Create 500-image subset for testing\n",
    "subset_loader = create_subset_loader(normal_train, pneumonia_train, train_transform)\n",
    "\n",
    "print(f\"Training samples: {len(normal_train) + len(pneumonia_train)}\")\n",
    "print(f\"Validation samples: {len(normal_val) + len(pneumonia_val)}\")\n",
    "print(f\"Subset samples: {len(subset_loader.dataset)}\")"
   ]
  },
  {
   "cell_type": "code",
   "execution_count": 26,
   "id": "3e9995f0",
   "metadata": {},
   "outputs": [
    {
     "name": "stdout",
     "output_type": "stream",
     "text": [
      "Training ResNet-50 on 500-image subset\n",
      "Epoch 1/2, Batch 0/16, Loss: 0.0087\n",
      "Epoch 1/2, Batch 5/16, Loss: 0.0101\n",
      "Epoch 1/2, Batch 10/16, Loss: 0.0111\n",
      "Epoch 1/2, Batch 15/16, Loss: 0.0101\n",
      "Epoch 1: Train Loss: 0.0420, Train Acc: 98.00%, Val Loss: 0.0188, Val Acc: 99.40%\n",
      "Epoch 2/2, Batch 0/16, Loss: 0.0380\n",
      "Epoch 2/2, Batch 5/16, Loss: 0.0112\n",
      "Epoch 2/2, Batch 10/16, Loss: 0.7080\n",
      "Epoch 2/2, Batch 15/16, Loss: 0.1884\n",
      "Epoch 2: Train Loss: 0.0859, Train Acc: 97.80%, Val Loss: 0.0174, Val Acc: 99.00%\n",
      "\n",
      "Training ViT on 500-image subset\n",
      "Epoch 1/2, Batch 0/16, Loss: 0.0787\n",
      "Epoch 1/2, Batch 5/16, Loss: 0.2648\n",
      "Epoch 1/2, Batch 10/16, Loss: 0.1287\n",
      "Epoch 1/2, Batch 15/16, Loss: 0.1220\n",
      "Epoch 1: Train Loss: 0.2563, Train Acc: 91.00%, Val Loss: 0.1254, Val Acc: 95.60%\n",
      "Epoch 2/2, Batch 0/16, Loss: 0.3019\n",
      "Epoch 2/2, Batch 5/16, Loss: 0.1003\n",
      "Epoch 2/2, Batch 10/16, Loss: 0.1749\n",
      "Epoch 2/2, Batch 15/16, Loss: 0.0287\n",
      "Epoch 2: Train Loss: 0.0893, Train Acc: 96.20%, Val Loss: 0.0574, Val Acc: 97.80%\n",
      "ResNet final validation accuracy: 99.00%\n",
      "ViT final validation accuracy: 97.80%\n"
     ]
    }
   ],
   "source": [
    "# Test training on small subset\n",
    "print(\"Training ResNet-50 on 500-image subset\")\n",
    "resnet_history = train_model(resnet, subset_loader, subset_loader, num_epochs=2, learning_rate=1e-4)\n",
    "\n",
    "print(\"\\nTraining ViT on 500-image subset\") \n",
    "vit_history = train_model(vit, subset_loader, subset_loader, num_epochs=2, learning_rate=1e-4)\n",
    "\n",
    "print(f\"ResNet final validation accuracy: {resnet_history['val_acc'][-1]:.2f}%\")\n",
    "print(f\"ViT final validation accuracy: {vit_history['val_acc'][-1]:.2f}%\")"
   ]
  },
  {
   "cell_type": "code",
   "execution_count": 28,
   "id": "e749ad77",
   "metadata": {},
   "outputs": [
    {
     "name": "stdout",
     "output_type": "stream",
     "text": [
      "Scaling to whole dataset\n",
      "Whole training batches: 131\n",
      "Whole validation batches: 33\n",
      "Training samples: 4185\n",
      "Validation samples: 1047\n",
      "Batch shape: torch.Size([32, 3, 224, 224])\n",
      "Labels shape: torch.Size([32])\n"
     ]
    }
   ],
   "source": [
    "# Create whole dataset with proper train/val splits\n",
    "print(\"Scaling to whole dataset\")\n",
    "\n",
    "# Create whole data loaders (not using subset anymore)\n",
    "whole_train_loader, whole_val_loader = create_data_loaders(\n",
    "    normal_train, normal_val, pneumonia_train, pneumonia_val,\n",
    "    train_transform, val_transform, batch_size=32\n",
    ")\n",
    "\n",
    "print(f\"Whole training batches: {len(whole_train_loader)}\")\n",
    "print(f\"Whole validation batches: {len(whole_val_loader)}\")\n",
    "print(f\"Training samples: {len(whole_train_loader.dataset)}\")\n",
    "print(f\"Validation samples: {len(whole_val_loader.dataset)}\")\n",
    "\n",
    "# Test one batch to ensure everything works\n",
    "test_batch = next(iter(whole_train_loader))\n",
    "print(f\"Batch shape: {test_batch[0].shape}\")\n",
    "print(f\"Labels shape: {test_batch[1].shape}\")"
   ]
  },
  {
   "cell_type": "code",
   "execution_count": null,
   "id": "98f6825a",
   "metadata": {},
   "outputs": [],
   "source": [
    "# Train ResNet-50 on whole dataset\n",
    "print(\"Training ResNet-50 on whole dataset...\")\n",
    "resnet_whole_history = train_model(\n",
    "    resnet, \n",
    "    whole_train_loader, \n",
    "    whole_val_loader, \n",
    "    num_epochs=10,\n",
    "    learning_rate=1e-4\n",
    ")\n",
    "\n",
    "print(\"\\nTraining ViT on whole dataset...\")\n",
    "vit_whole_history = train_model(\n",
    "    vit, \n",
    "    whole_train_loader, \n",
    "    whole_val_loader, \n",
    "    num_epochs=10,\n",
    "    learning_rate=1e-4\n",
    ")\n",
    "\n",
    "print(f\"ResNet final training accuracy: {resnet_whole_history['train_acc'][-1]:.2f}%\")\n",
    "print(f\"ResNet final validation accuracy: {resnet_whole_history['val_acc'][-1]:.2f}%\")\n",
    "print(f\"ViT final training accuracy: {vit_whole_history['train_acc'][-1]:.2f}%\")  \n",
    "print(f\"ViT final validation accuracy: {vit_whole_history['val_acc'][-1]:.2f}%\")"
   ]
  }
 ],
 "metadata": {
  "kernelspec": {
   "display_name": "Python 3",
   "language": "python",
   "name": "python3"
  },
  "language_info": {
   "codemirror_mode": {
    "name": "ipython",
    "version": 3
   },
   "file_extension": ".py",
   "mimetype": "text/x-python",
   "name": "python",
   "nbconvert_exporter": "python",
   "pygments_lexer": "ipython3",
   "version": "3.13.2"
  }
 },
 "nbformat": 4,
 "nbformat_minor": 5
}
